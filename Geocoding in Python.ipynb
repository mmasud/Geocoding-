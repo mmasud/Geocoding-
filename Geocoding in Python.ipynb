{
 "cells": [
  {
   "cell_type": "code",
   "execution_count": 2,
   "metadata": {},
   "outputs": [],
   "source": [
    "import numpy as np\n",
    "import pandas as pd\n",
    "\n",
    "import pgeocode\n",
    "from geopy.geocoders import GoogleV3"
   ]
  },
  {
   "cell_type": "code",
   "execution_count": null,
   "metadata": {},
   "outputs": [],
   "source": [
    "nomi = pgeocode.Nominatim('se')\n",
    "#print(nomi.query_location(['Stockholm, sweden']))\n",
    "postal_codes = df_full.query('`PostNr (Leverans)` != \"0\"')['PostNr (Leverans)'].astype(str).unique().tolist()\n",
    "postal_codes = [x[:3] + ' '+x[3:] for x in postal_codes]\n",
    "postal_code_df = nomi.query_postal_code(postal_codes)\n",
    "postal_code_df.sort_values(by= \"postal_code\", inplace = True)\n",
    "postal_code_df"
   ]
  },
  {
   "cell_type": "code",
   "execution_count": 3,
   "metadata": {},
   "outputs": [],
   "source": [
    "def get_address(df, join_df):\n",
    "    '''Function to create address column concatenating other address text columns'''\n",
    "    \n",
    "    df['postal_code_new']= [''.join(x.split(' ')) for x in df['postal_code']]\n",
    "    df = pd.merge(df, join_df[[\"PostNr (Leverans)\", \"Län\", \"Kommun\"]].drop_duplicates(), how= \"left\", left_on = \"postal_code_new\", right_on= \"PostNr (Leverans)\")\n",
    "    df['Address'] = df['postal_code'] + ', ' + df['Kommun'] + ', '+  df['Län'] + ', '+ \"Sweden\"\n",
    "    \n",
    "    return df"
   ]
  },
  {
   "cell_type": "code",
   "execution_count": null,
   "metadata": {},
   "outputs": [],
   "source": [
    "API_KEY = \"XXXXXXXXXXXXXXXXXXXXXXXXXXXXXXXXXXX\"\n",
    "geolocator = GoogleV3(api_key=API_KEY)\n",
    "\n",
    "missing_address = postal_code_df.query('latitude.isnull()')\n",
    "missing_address = get_address(missing_address, df_full)\n",
    "# Apply geolocator.geocode to the address column\n",
    "missing_address[\"loc\"]= missing_address[\"Address\"].apply(geolocator.geocode)\n",
    "# create longitude, laatitude and altitude from location column (returns tuple) from the geocode’s response, if it’s not None.\n",
    "missing_address[\"point\"] = missing_address[\"loc\"].apply(lambda loc: tuple(loc.point) if loc else None)\n",
    "# Split the column \"point\" into separate columns 'lat' 'lon' and 'altitude'\n",
    "missing_address[['lat', 'lon', 'altitude']] = pd.DataFrame(missing_address['point'].to_list(), index=missing_address.index)"
   ]
  },
  {
   "cell_type": "code",
   "execution_count": null,
   "metadata": {},
   "outputs": [],
   "source": [
    "missing_address_subset = missing_address[[\"postal_code\",\"lat\", \"lon\"]]\n",
    "missing_address_subset.columns = [\"postal_code\", \"latitude\", \"longitude\"]\n",
    "missing_address_subset"
   ]
  },
  {
   "cell_type": "code",
   "execution_count": null,
   "metadata": {},
   "outputs": [],
   "source": [
    "# concat the missing list and postal code df from OpenStreetMap\n",
    "final_list = pd.concat([missing_address_subset, \n",
    "                        postal_code_df.loc[~ postal_code_df.latitude.isnull(), [\"postal_code\", \"latitude\", \"longitude\"]]])\n",
    "print(final_list.shape)\n",
    "print(final_list.info())\n",
    "final_list.head()"
   ]
  },
  {
   "cell_type": "code",
   "execution_count": null,
   "metadata": {},
   "outputs": [],
   "source": [
    "# To check if there any missing values\n",
    "final_list[final_list[\"latitude\"].isnull()]"
   ]
  },
  {
   "cell_type": "code",
   "execution_count": null,
   "metadata": {},
   "outputs": [],
   "source": [
    "# Append a new postal code to the existing list\n",
    "final_list = final_list.append({'postal_code': \"573 74\", \n",
    "               \"latitude\": 57.82482969839215,\n",
    "               \"longitude\": 15.277196956108165}, ignore_index=True)\n",
    "\n",
    "# save the list as a csv file\n",
    "final_list.to_csv(\"lit_of_postal_codes.csv\", sep= \",\", index=False)"
   ]
  },
  {
   "cell_type": "code",
   "execution_count": null,
   "metadata": {},
   "outputs": [],
   "source": [
    "postal_data = pd.read_csv(f'{PATH}/SE/SE.txt', sep=\"\\t\", header=None)\n",
    "postal_data.columns = [\"country_code\", \"postal_code\", \"place_name\", \"admin_name1\",\n",
    "                      \"admin_code1\", \"admin_name2\",\n",
    "                      \"admin_code2\", \"admin_name3\",\n",
    "                      \"admin_code3\", \"latitude\", \"longitude\", \"accuracy\"]\n",
    "postal_data"
   ]
  },
  {
   "cell_type": "code",
   "execution_count": null,
   "metadata": {},
   "outputs": [],
   "source": [
    "# import geopandas as gpd\n",
    "# import geopy\n",
    "\n",
    "\n",
    "# locator = geopy.Nominatim(user_agent=\"myGeocoder\")\n",
    "# location = locator.geocode(\"365 32, LESSEBO, Kronobergs län, Sweden\")\n",
    "# location\n",
    "\n",
    "# from geopy.extra.rate_limiter import RateLimiter\n",
    "\n",
    "# # 1 - conveneint function to delay between geocoding calls\n",
    "# geocode = RateLimiter(locator.geocode, min_delay_seconds=1)\n",
    "# # 2- - create location column\n",
    "# missing_['location'] = missing_['Address'].apply(geocode)\n",
    "# # 3 - create longitude, laatitude and altitude from location column (returns tuple)\n",
    "# missing_['point'] = missing_['location'].apply(lambda loc: tuple(loc.point) if loc else None)\n",
    "# # 4 - split point column into latitude, longitude and altitude columns\n",
    "# missing_[['lat', 'long', 'altitude']] = pd.DataFrame(missing_['point'].tolist(), index=missing_.index)"
   ]
  }
 ],
 "metadata": {
  "kernelspec": {
   "display_name": "Python 3",
   "language": "python",
   "name": "python3"
  },
  "language_info": {
   "codemirror_mode": {
    "name": "ipython",
    "version": 3
   },
   "file_extension": ".py",
   "mimetype": "text/x-python",
   "name": "python",
   "nbconvert_exporter": "python",
   "pygments_lexer": "ipython3",
   "version": "3.7.7"
  }
 },
 "nbformat": 4,
 "nbformat_minor": 4
}
